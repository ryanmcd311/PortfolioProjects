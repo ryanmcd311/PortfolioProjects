{
 "cells": [
  {
   "cell_type": "code",
   "execution_count": null,
   "id": "411c3453-1637-4f07-ae75-bff57e982b89",
   "metadata": {},
   "outputs": [],
   "source": [
    "#Beautiful Soup and Requests- Web Scraping"
   ]
  },
  {
   "cell_type": "code",
   "execution_count": 54,
   "id": "9cafdccc-cf8a-462a-8348-518b50c207b4",
   "metadata": {},
   "outputs": [],
   "source": [
    "#Beautiful soup import allows the HTML to be used as searchable structure. bs4 is BeautifulSoup version 4\n",
    "#Store website URL as string\n",
    "#Requests.get downloads HTML content from the page and store in response object\n",
    "#html.parser tells BeautifulSoup to use built in Python HTML parser\n",
    "\n",
    "\n",
    "import requests\n",
    "from bs4 import BeautifulSoup\n",
    "\n",
    "url = \"https://www.scrapethissite.com/pages/forms/\"\n",
    "response = requests.get(url)\n",
    "soup = BeautifulSoup(response.text, \"html.parser\")\n"
   ]
  },
  {
   "cell_type": "code",
   "execution_count": 58,
   "id": "1ca32266-61da-4c8a-b415-8f198d9bdfb6",
   "metadata": {},
   "outputs": [
    {
     "name": "stdout",
     "output_type": "stream",
     "text": [
      "Hockey Teams: Forms, Searching and Pagination | Scrape This Site | A public sandbox for learning web scraping\n"
     ]
    }
   ],
   "source": [
    "#Retrieve the page title\n",
    "\n",
    "print(soup.title.text)\n"
   ]
  },
  {
   "cell_type": "code",
   "execution_count": 60,
   "id": "0a3a24fc-f93d-422d-a3f9-24ad71efa272",
   "metadata": {},
   "outputs": [
    {
     "name": "stdout",
     "output_type": "stream",
     "text": [
      "Boston Bruins\n",
      "Buffalo Sabres\n",
      "Calgary Flames\n",
      "Chicago Blackhawks\n",
      "Detroit Red Wings\n",
      "Edmonton Oilers\n",
      "Hartford Whalers\n",
      "Los Angeles Kings\n",
      "Minnesota North Stars\n",
      "Montreal Canadiens\n",
      "New Jersey Devils\n",
      "New York Islanders\n",
      "New York Rangers\n",
      "Philadelphia Flyers\n",
      "Pittsburgh Penguins\n",
      "Quebec Nordiques\n",
      "St. Louis Blues\n",
      "Toronto Maple Leafs\n",
      "Vancouver Canucks\n",
      "Washington Capitals\n",
      "Winnipeg Jets\n",
      "Boston Bruins\n",
      "Buffalo Sabres\n",
      "Calgary Flames\n",
      "Chicago Blackhawks\n"
     ]
    }
   ],
   "source": [
    "#Get all team names on the page\n",
    "\n",
    "#soup.select finds all matching HTML elements to \".team\"\n",
    "#select_one retrieves the first matching HTML element to \".name\"\n",
    "#text.strip() removes any spaces, tabs, etc. \n",
    "#for team in soup.select(\".team\") uses a loop through each team block that was found\n",
    "\n",
    "team_names = [team.select_one(\".name\").text.strip() for team in soup.select(\".team\")]\n",
    "\n",
    "#For loop - loops through each item in the list team_names. Each time through loop it assigns the next item to the variable name\n",
    "\n",
    "for name in team_names:\n",
    "    print(name)\n"
   ]
  },
  {
   "cell_type": "code",
   "execution_count": 62,
   "id": "6c99087c-26d3-4170-af25-8b1fbf696ab8",
   "metadata": {},
   "outputs": [
    {
     "name": "stdout",
     "output_type": "stream",
     "text": [
      "Boston Bruins - Wins: 44, Losses: 24\n",
      "Buffalo Sabres - Wins: 31, Losses: 30\n",
      "Calgary Flames - Wins: 46, Losses: 26\n",
      "Chicago Blackhawks - Wins: 49, Losses: 23\n",
      "Detroit Red Wings - Wins: 34, Losses: 38\n",
      "Edmonton Oilers - Wins: 37, Losses: 37\n",
      "Hartford Whalers - Wins: 31, Losses: 38\n",
      "Los Angeles Kings - Wins: 46, Losses: 24\n",
      "Minnesota North Stars - Wins: 27, Losses: 39\n",
      "Montreal Canadiens - Wins: 39, Losses: 30\n",
      "New Jersey Devils - Wins: 32, Losses: 33\n",
      "New York Islanders - Wins: 25, Losses: 45\n",
      "New York Rangers - Wins: 36, Losses: 31\n",
      "Philadelphia Flyers - Wins: 33, Losses: 37\n",
      "Pittsburgh Penguins - Wins: 41, Losses: 33\n",
      "Quebec Nordiques - Wins: 16, Losses: 50\n",
      "St. Louis Blues - Wins: 47, Losses: 22\n",
      "Toronto Maple Leafs - Wins: 23, Losses: 46\n",
      "Vancouver Canucks - Wins: 28, Losses: 43\n",
      "Washington Capitals - Wins: 37, Losses: 36\n",
      "Winnipeg Jets - Wins: 26, Losses: 43\n",
      "Boston Bruins - Wins: 36, Losses: 32\n",
      "Buffalo Sabres - Wins: 31, Losses: 37\n",
      "Calgary Flames - Wins: 31, Losses: 37\n",
      "Chicago Blackhawks - Wins: 36, Losses: 29\n"
     ]
    }
   ],
   "source": [
    "#Find wins and losses for each team\n",
    "\n",
    "#Assign all matching HTML elements containing \".team\" to teams variable\n",
    "#For team in teams uses a loop through teams variable we created\n",
    "#Searching for the first matching \"name\", \"wins\", \"losses\" HTML element assigned to teams variable loop\n",
    "#print(f\") - f-string that inserts variables directly into the string making the code cleaner and quicker\n",
    "\n",
    "\n",
    "teams = soup.select(\".team\")\n",
    "\n",
    "for team in teams:\n",
    "    name = team.select_one(\".name\").text.strip()\n",
    "    wins = team.select_one(\".wins\").text.strip()\n",
    "    losses = team.select_one(\".losses\").text.strip()\n",
    "    print(f\"{name} - Wins: {wins}, Losses: {losses}\")\n"
   ]
  },
  {
   "cell_type": "code",
   "execution_count": 66,
   "id": "2f9e9b4b-c6f9-4676-ac39-ebdfa7a28489",
   "metadata": {},
   "outputs": [
    {
     "name": "stdout",
     "output_type": "stream",
     "text": [
      "[['Boston Bruins', '44', '24', '299', '264'], ['Buffalo Sabres', '31', '30', '292', '278'], ['Calgary Flames', '46', '26', '344', '263'], ['Chicago Blackhawks', '49', '23', '284', '211'], ['Detroit Red Wings', '34', '38', '273', '298'], ['Edmonton Oilers', '37', '37', '272', '272'], ['Hartford Whalers', '31', '38', '238', '276'], ['Los Angeles Kings', '46', '24', '340', '254'], ['Minnesota North Stars', '27', '39', '256', '266'], ['Montreal Canadiens', '39', '30', '273', '249'], ['New Jersey Devils', '32', '33', '272', '264'], ['New York Islanders', '25', '45', '223', '290'], ['New York Rangers', '36', '31', '297', '265'], ['Philadelphia Flyers', '33', '37', '252', '267'], ['Pittsburgh Penguins', '41', '33', '342', '305'], ['Quebec Nordiques', '16', '50', '236', '354'], ['St. Louis Blues', '47', '22', '310', '250'], ['Toronto Maple Leafs', '23', '46', '241', '318'], ['Vancouver Canucks', '28', '43', '243', '315'], ['Washington Capitals', '37', '36', '258', '258'], ['Winnipeg Jets', '26', '43', '260', '288'], ['Boston Bruins', '36', '32', '270', '275'], ['Buffalo Sabres', '31', '37', '289', '299'], ['Calgary Flames', '31', '37', '296', '305'], ['Chicago Blackhawks', '36', '29', '257', '236']]\n"
     ]
    }
   ],
   "source": [
    "#Create teams_data list and put our looped team function in\n",
    "#Append data by adding goals for and goals against fields\n",
    "\n",
    "teams_data = []\n",
    "\n",
    "for team in teams:\n",
    "    name = team.select_one(\".name\").text.strip()\n",
    "    wins = team.select_one(\".wins\").text.strip()\n",
    "    losses = team.select_one(\".losses\").text.strip()\n",
    "    gf = team.select_one(\".gf\").text.strip()\n",
    "    ga = team.select_one(\".ga\").text.strip()\n",
    "    teams_data.append([name, wins, losses, gf, ga])\n",
    "\n",
    "print(teams_data)"
   ]
  },
  {
   "cell_type": "code",
   "execution_count": 68,
   "id": "c0ef5f2e-3311-4958-a3e9-20318a13c5a6",
   "metadata": {},
   "outputs": [],
   "source": [
    "#Save data as csv file\n",
    "\n",
    "#Import csv module to read/write csv files\n",
    "#Import os module to let Python interact with computer operating system - downloads folder\n",
    "\n",
    "import csv\n",
    "import os\n",
    "\n",
    "\n",
    "#Save to Downloads folder\n",
    "#With open - opens file for writing and closes when done\n",
    "#\"W\" puts it in write mode and overwrites if already exits\n",
    "#Newline avoids adding extra blank lines\n",
    "#Writer creates CSV writer object to write individual rows \n",
    "#writer.writerow - writes the header row\n",
    "#writer.writerows(teams_data) - writes our list teams_data into csv file\n",
    "\n",
    "\n",
    "\n",
    "save_path = \"/Users/ryanmcdonnell/Downloads/hockey_teams.csv\"\n",
    "with open(save_path, \"w\", newline=\"\") as file:\n",
    "    writer = csv.writer(file)\n",
    "    writer.writerow([\"Team Name\", \"Wins\", \"Losses\", \"Goals For\", \"Goals Against\"])\n",
    "    writer.writerows(teams_data)\n",
    "\n"
   ]
  },
  {
   "cell_type": "code",
   "execution_count": null,
   "id": "041cff54-d774-408a-9728-a93b3f8cc341",
   "metadata": {},
   "outputs": [],
   "source": []
  }
 ],
 "metadata": {
  "kernelspec": {
   "display_name": "Python [conda env:base] *",
   "language": "python",
   "name": "conda-base-py"
  },
  "language_info": {
   "codemirror_mode": {
    "name": "ipython",
    "version": 3
   },
   "file_extension": ".py",
   "mimetype": "text/x-python",
   "name": "python",
   "nbconvert_exporter": "python",
   "pygments_lexer": "ipython3",
   "version": "3.12.7"
  }
 },
 "nbformat": 4,
 "nbformat_minor": 5
}
